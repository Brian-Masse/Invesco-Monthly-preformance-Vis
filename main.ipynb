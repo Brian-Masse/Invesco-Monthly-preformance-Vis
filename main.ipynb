{
 "cells": [
  {
   "cell_type": "code",
   "execution_count": 837,
   "metadata": {},
   "outputs": [],
   "source": [
    "import pandas as pd\n",
    "import altair as alt\n",
    "import math\n",
    "import numpy as np \n",
    "\n",
    "import coffee.color as c\n",
    "import coffee.palletts as p"
   ]
  },
  {
   "cell_type": "code",
   "execution_count": 838,
   "metadata": {},
   "outputs": [],
   "source": [
    "xls = pd.ExcelFile(\n",
    "    \"./data/Data viz.xlsx\"\n",
    ")\n",
    "market_beta = pd.read_excel( xls, \"Market Beta\" )\n",
    "factors = pd.read_excel( xls, \"Factors\" )\n",
    "target_maturity = pd.read_excel( xls, \"Target Maturity\" )"
   ]
  },
  {
   "cell_type": "code",
   "execution_count": 839,
   "metadata": {},
   "outputs": [],
   "source": [
    "def return_legend(title, pallett=p.green_tea, ):\n",
    "    return alt.Legend(\n",
    "        cornerRadius           =10,\n",
    "        padding             =10,\n",
    "        fillColor           =pallett.back_HEX,\n",
    "\n",
    "        gradientStrokeWidth =2,\n",
    "        gradientStrokeColor =pallett.text_HEX,\n",
    "\n",
    "        labelColor          =pallett.text_HEX,\n",
    "        labelFont           =\"LuloCleanOne-Bold\",\n",
    "        labelFontSize       =10,\n",
    "\n",
    "        title               =title,      \n",
    "        titleColor          =pallett.text_HEX,\n",
    "        titleFont           =\"LuloCleanOne-Bold\",\n",
    "        titleFontSize       =15, \n",
    "    )\n",
    "\n",
    "def return_axis(title, pallett=p.green_tea, ):\n",
    "    return alt.Axis(\n",
    "        labelColor          =pallett.text_HEX,\n",
    "        labelFont           =\"LuloCleanOne-Bold\",\n",
    "        labelFontSize       =10,\n",
    "\n",
    "        title               =title,      \n",
    "        titlePadding        =10,\n",
    "        titleColor          =pallett.text_HEX,\n",
    "        titleFont           =\"LuloCleanOne-Bold\",\n",
    "        titleFontSize       =15, \n",
    "    )\n",
    "\n",
    "def apply_config(graph, size=(300, 300), title=\"\"):\n",
    "    graph = graph.properties(\n",
    "        title=title,\n",
    "        width = size[0],\n",
    "        height = size[1]\n",
    "    )\n",
    "    return graph\n",
    "\n",
    "def apply_all( graph, pallett=p.green_tea ):\n",
    "    graph = graph.configure(\n",
    "        font=\"LuloCleanOne-Bold\",\n",
    "        background=pallett.back_HEX\n",
    "    )\n",
    "    graph = graph.configure_title(\n",
    "        fontSize=30,\n",
    "        color=pallett.text_HEX,\n",
    "    )\n",
    "    graph = graph.configure_range (\n",
    "        category=pallett.grad,\n",
    "        heatmap=pallett.grad\n",
    "    )\n",
    "    return graph"
   ]
  },
  {
   "cell_type": "code",
   "execution_count": 840,
   "metadata": {},
   "outputs": [],
   "source": [
    "prim = c.color(4, 0, 117)\n",
    "second = c.color(25, 17, 250)\n",
    "\n",
    "grad = prim.return_color_grad(second, 100)\n",
    "\n",
    "back = c.color(219, 218, 245)\n",
    "text = c.color(3, 1, 64)\n",
    "\n",
    "pallett = c.pallet(grad, prim, second, back, back, text)"
   ]
  },
  {
   "cell_type": "code",
   "execution_count": 841,
   "metadata": {},
   "outputs": [],
   "source": [
    "def round_dig(x, base=10, digits=-2):\n",
    "    num = x / ( math.pow( base, digits ) )\n",
    "    num = math.floor(num)\n",
    "    \n",
    "    return ( num * ( math.pow( base, digits ) ) )\n",
    "\n",
    "def convert_perc(perc):\n",
    "    num = perc * 100\n",
    "    return round_dig( num )\n"
   ]
  },
  {
   "cell_type": "markdown",
   "metadata": {},
   "source": [
    "# **MARKET BETA**"
   ]
  },
  {
   "cell_type": "code",
   "execution_count": 842,
   "metadata": {},
   "outputs": [],
   "source": [
    "def return_beta( series, title, size=(300, 300), pallett=pallett  ):\n",
    "\n",
    "    market_beta[series] = pd.Series( map( convert_perc, market_beta[series] ))\n",
    "\n",
    "    sorted = market_beta.copy()\n",
    "    sorted = sorted.sort_values( by=series )\n",
    "\n",
    "    return return_beta_chart( sorted, series, title, size, pallett  )"
   ]
  },
  {
   "cell_type": "code",
   "execution_count": 843,
   "metadata": {},
   "outputs": [],
   "source": [
    "def return_beta_chart( data, series, title, size=(300, 300), pallett=pallett ):\n",
    "    chart = alt.Chart(data)\n",
    "\n",
    "    heatmap = chart.mark_rect().encode(\n",
    "        alt.X('Size:O', \n",
    "            scale=alt.Scale(paddingInner=0),\n",
    "            axis=return_axis(\"Market Size\", pallett)),\n",
    "            \n",
    "        alt.Y('Geography:O', \n",
    "        scale=alt.Scale(paddingInner=0),\n",
    "        axis=return_axis(\"Geography\", pallett) ),\n",
    "\n",
    "        color=alt.Color(series + ':Q', \n",
    "            legend=return_legend(\"Return (%)\", pallett)\n",
    "        ),)\n",
    "\n",
    "    text = heatmap.mark_text().transform_calculate(label = '\"\" + datum.x + datum.y').encode(\n",
    "        text=series + ':Q',\n",
    "        color={'value': pallett.text_HEX})\n",
    "\n",
    "    return apply_config((heatmap + text), size, title)"
   ]
  },
  {
   "cell_type": "code",
   "execution_count": 844,
   "metadata": {},
   "outputs": [
    {
     "data": {
      "text/html": [
       "\n",
       "<div id=\"altair-viz-618e18b4e83f4a3c80d39aba850af658\"></div>\n",
       "<script type=\"text/javascript\">\n",
       "  var VEGA_DEBUG = (typeof VEGA_DEBUG == \"undefined\") ? {} : VEGA_DEBUG;\n",
       "  (function(spec, embedOpt){\n",
       "    let outputDiv = document.currentScript.previousElementSibling;\n",
       "    if (outputDiv.id !== \"altair-viz-618e18b4e83f4a3c80d39aba850af658\") {\n",
       "      outputDiv = document.getElementById(\"altair-viz-618e18b4e83f4a3c80d39aba850af658\");\n",
       "    }\n",
       "    const paths = {\n",
       "      \"vega\": \"https://cdn.jsdelivr.net/npm//vega@5?noext\",\n",
       "      \"vega-lib\": \"https://cdn.jsdelivr.net/npm//vega-lib?noext\",\n",
       "      \"vega-lite\": \"https://cdn.jsdelivr.net/npm//vega-lite@4.17.0?noext\",\n",
       "      \"vega-embed\": \"https://cdn.jsdelivr.net/npm//vega-embed@6?noext\",\n",
       "    };\n",
       "\n",
       "    function maybeLoadScript(lib, version) {\n",
       "      var key = `${lib.replace(\"-\", \"\")}_version`;\n",
       "      return (VEGA_DEBUG[key] == version) ?\n",
       "        Promise.resolve(paths[lib]) :\n",
       "        new Promise(function(resolve, reject) {\n",
       "          var s = document.createElement('script');\n",
       "          document.getElementsByTagName(\"head\")[0].appendChild(s);\n",
       "          s.async = true;\n",
       "          s.onload = () => {\n",
       "            VEGA_DEBUG[key] = version;\n",
       "            return resolve(paths[lib]);\n",
       "          };\n",
       "          s.onerror = () => reject(`Error loading script: ${paths[lib]}`);\n",
       "          s.src = paths[lib];\n",
       "        });\n",
       "    }\n",
       "\n",
       "    function showError(err) {\n",
       "      outputDiv.innerHTML = `<div class=\"error\" style=\"color:red;\">${err}</div>`;\n",
       "      throw err;\n",
       "    }\n",
       "\n",
       "    function displayChart(vegaEmbed) {\n",
       "      vegaEmbed(outputDiv, spec, embedOpt)\n",
       "        .catch(err => showError(`Javascript Error: ${err.message}<br>This usually means there's a typo in your chart specification. See the javascript console for the full traceback.`));\n",
       "    }\n",
       "\n",
       "    if(typeof define === \"function\" && define.amd) {\n",
       "      requirejs.config({paths});\n",
       "      require([\"vega-embed\"], displayChart, err => showError(`Error loading script: ${err.message}`));\n",
       "    } else {\n",
       "      maybeLoadScript(\"vega\", \"5\")\n",
       "        .then(() => maybeLoadScript(\"vega-lite\", \"4.17.0\"))\n",
       "        .then(() => maybeLoadScript(\"vega-embed\", \"6\"))\n",
       "        .catch(showError)\n",
       "        .then(() => displayChart(vegaEmbed));\n",
       "    }\n",
       "  })({\"config\": {\"view\": {\"continuousWidth\": 400, \"continuousHeight\": 300}, \"background\": \"#DBDAF5\", \"font\": \"LuloCleanOne-Bold\", \"range\": {\"category\": [\"#040075\", \"#040076\", \"#040077\", \"#040079\", \"#04007A\", \"#05007B\", \"#05017D\", \"#05017E\", \"#05017F\", \"#050181\", \"#060182\", \"#060183\", \"#060285\", \"#060286\", \"#060287\", \"#070289\", \"#07028A\", \"#07028B\", \"#07038D\", \"#08038E\", \"#08038F\", \"#080391\", \"#080392\", \"#080393\", \"#090495\", \"#090496\", \"#090497\", \"#090499\", \"#09049A\", \"#0A049B\", \"#0A059D\", \"#0A059E\", \"#0A059F\", \"#0B05A1\", \"#0B05A2\", \"#0B06A4\", \"#0B06A5\", \"#0B06A6\", \"#0C06A8\", \"#0C06A9\", \"#0C06AA\", \"#0C07AC\", \"#0C07AD\", \"#0D07AE\", \"#0D07B0\", \"#0D07B1\", \"#0D07B2\", \"#0D08B4\", \"#0E08B5\", \"#0E08B6\", \"#0E08B8\", \"#0E08B9\", \"#0F08BA\", \"#0F09BC\", \"#0F09BD\", \"#0F09BE\", \"#0F09C0\", \"#1009C1\", \"#1009C2\", \"#100AC4\", \"#100AC5\", \"#100AC6\", \"#110AC8\", \"#110AC9\", \"#110ACA\", \"#110BCC\", \"#120BCD\", \"#120BCF\", \"#120BD0\", \"#120BD1\", \"#120CD3\", \"#130CD4\", \"#130CD5\", \"#130CD7\", \"#130CD8\", \"#130CD9\", \"#140DDB\", \"#140DDC\", \"#140DDD\", \"#140DDF\", \"#140DE0\", \"#150DE1\", \"#150EE3\", \"#150EE4\", \"#150EE5\", \"#160EE7\", \"#160EE8\", \"#160EE9\", \"#160FEB\", \"#160FEC\", \"#170FED\", \"#170FEF\", \"#170FF0\", \"#170FF1\", \"#1710F3\", \"#1810F4\", \"#1810F5\", \"#1810F7\", \"#1810F8\", \"#1911FA\"], \"heatmap\": [\"#040075\", \"#040076\", \"#040077\", \"#040079\", \"#04007A\", \"#05007B\", \"#05017D\", \"#05017E\", \"#05017F\", \"#050181\", \"#060182\", \"#060183\", \"#060285\", \"#060286\", \"#060287\", \"#070289\", \"#07028A\", \"#07028B\", \"#07038D\", \"#08038E\", \"#08038F\", \"#080391\", \"#080392\", \"#080393\", \"#090495\", \"#090496\", \"#090497\", \"#090499\", \"#09049A\", \"#0A049B\", \"#0A059D\", \"#0A059E\", \"#0A059F\", \"#0B05A1\", \"#0B05A2\", \"#0B06A4\", \"#0B06A5\", \"#0B06A6\", \"#0C06A8\", \"#0C06A9\", \"#0C06AA\", \"#0C07AC\", \"#0C07AD\", \"#0D07AE\", \"#0D07B0\", \"#0D07B1\", \"#0D07B2\", \"#0D08B4\", \"#0E08B5\", \"#0E08B6\", \"#0E08B8\", \"#0E08B9\", \"#0F08BA\", \"#0F09BC\", \"#0F09BD\", \"#0F09BE\", \"#0F09C0\", \"#1009C1\", \"#1009C2\", \"#100AC4\", \"#100AC5\", \"#100AC6\", \"#110AC8\", \"#110AC9\", \"#110ACA\", \"#110BCC\", \"#120BCD\", \"#120BCF\", \"#120BD0\", \"#120BD1\", \"#120CD3\", \"#130CD4\", \"#130CD5\", \"#130CD7\", \"#130CD8\", \"#130CD9\", \"#140DDB\", \"#140DDC\", \"#140DDD\", \"#140DDF\", \"#140DE0\", \"#150DE1\", \"#150EE3\", \"#150EE4\", \"#150EE5\", \"#160EE7\", \"#160EE8\", \"#160EE9\", \"#160FEB\", \"#160FEC\", \"#170FED\", \"#170FEF\", \"#170FF0\", \"#170FF1\", \"#1710F3\", \"#1810F4\", \"#1810F5\", \"#1810F7\", \"#1810F8\", \"#1911FA\"]}, \"title\": {\"color\": \"#030140\", \"fontSize\": 30}}, \"hconcat\": [{\"layer\": [{\"mark\": \"rect\", \"encoding\": {\"color\": {\"field\": \"1 Mo\", \"legend\": {\"cornerRadius\": 10, \"fillColor\": \"#DBDAF5\", \"gradientStrokeColor\": \"#030140\", \"gradientStrokeWidth\": 2, \"labelColor\": \"#030140\", \"labelFont\": \"LuloCleanOne-Bold\", \"labelFontSize\": 10, \"padding\": 10, \"title\": \"Return (%)\", \"titleColor\": \"#030140\", \"titleFont\": \"LuloCleanOne-Bold\", \"titleFontSize\": 15}, \"type\": \"quantitative\"}, \"x\": {\"axis\": {\"labelColor\": \"#030140\", \"labelFont\": \"LuloCleanOne-Bold\", \"labelFontSize\": 10, \"title\": \"Market Size\", \"titleColor\": \"#030140\", \"titleFont\": \"LuloCleanOne-Bold\", \"titleFontSize\": 15, \"titlePadding\": 10}, \"field\": \"Size\", \"scale\": {\"paddingInner\": 0}, \"type\": \"ordinal\"}, \"y\": {\"axis\": {\"labelColor\": \"#030140\", \"labelFont\": \"LuloCleanOne-Bold\", \"labelFontSize\": 10, \"title\": \"Geography\", \"titleColor\": \"#030140\", \"titleFont\": \"LuloCleanOne-Bold\", \"titleFontSize\": 15, \"titlePadding\": 10}, \"field\": \"Geography\", \"scale\": {\"paddingInner\": 0}, \"type\": \"ordinal\"}}}, {\"mark\": \"text\", \"encoding\": {\"color\": {\"value\": \"#030140\"}, \"text\": {\"field\": \"1 Mo\", \"type\": \"quantitative\"}, \"x\": {\"axis\": {\"labelColor\": \"#030140\", \"labelFont\": \"LuloCleanOne-Bold\", \"labelFontSize\": 10, \"title\": \"Market Size\", \"titleColor\": \"#030140\", \"titleFont\": \"LuloCleanOne-Bold\", \"titleFontSize\": 15, \"titlePadding\": 10}, \"field\": \"Size\", \"scale\": {\"paddingInner\": 0}, \"type\": \"ordinal\"}, \"y\": {\"axis\": {\"labelColor\": \"#030140\", \"labelFont\": \"LuloCleanOne-Bold\", \"labelFontSize\": 10, \"title\": \"Geography\", \"titleColor\": \"#030140\", \"titleFont\": \"LuloCleanOne-Bold\", \"titleFontSize\": 15, \"titlePadding\": 10}, \"field\": \"Geography\", \"scale\": {\"paddingInner\": 0}, \"type\": \"ordinal\"}}, \"transform\": [{\"calculate\": \"\\\"\\\" + datum.x + datum.y\", \"as\": \"label\"}]}], \"data\": {\"name\": \"data-dee50e37d16a204c02262b54a3b1fe73\"}, \"height\": 300, \"title\": \"Monthly Index Return\", \"width\": 300}, {\"layer\": [{\"mark\": \"rect\", \"encoding\": {\"color\": {\"field\": \"1 Yr\", \"legend\": {\"cornerRadius\": 10, \"fillColor\": \"#DBDAF5\", \"gradientStrokeColor\": \"#030140\", \"gradientStrokeWidth\": 2, \"labelColor\": \"#030140\", \"labelFont\": \"LuloCleanOne-Bold\", \"labelFontSize\": 10, \"padding\": 10, \"title\": \"Return (%)\", \"titleColor\": \"#030140\", \"titleFont\": \"LuloCleanOne-Bold\", \"titleFontSize\": 15}, \"type\": \"quantitative\"}, \"x\": {\"axis\": {\"labelColor\": \"#030140\", \"labelFont\": \"LuloCleanOne-Bold\", \"labelFontSize\": 10, \"title\": \"Market Size\", \"titleColor\": \"#030140\", \"titleFont\": \"LuloCleanOne-Bold\", \"titleFontSize\": 15, \"titlePadding\": 10}, \"field\": \"Size\", \"scale\": {\"paddingInner\": 0}, \"type\": \"ordinal\"}, \"y\": {\"axis\": {\"labelColor\": \"#030140\", \"labelFont\": \"LuloCleanOne-Bold\", \"labelFontSize\": 10, \"title\": \"Geography\", \"titleColor\": \"#030140\", \"titleFont\": \"LuloCleanOne-Bold\", \"titleFontSize\": 15, \"titlePadding\": 10}, \"field\": \"Geography\", \"scale\": {\"paddingInner\": 0}, \"type\": \"ordinal\"}}}, {\"mark\": \"text\", \"encoding\": {\"color\": {\"value\": \"#030140\"}, \"text\": {\"field\": \"1 Yr\", \"type\": \"quantitative\"}, \"x\": {\"axis\": {\"labelColor\": \"#030140\", \"labelFont\": \"LuloCleanOne-Bold\", \"labelFontSize\": 10, \"title\": \"Market Size\", \"titleColor\": \"#030140\", \"titleFont\": \"LuloCleanOne-Bold\", \"titleFontSize\": 15, \"titlePadding\": 10}, \"field\": \"Size\", \"scale\": {\"paddingInner\": 0}, \"type\": \"ordinal\"}, \"y\": {\"axis\": {\"labelColor\": \"#030140\", \"labelFont\": \"LuloCleanOne-Bold\", \"labelFontSize\": 10, \"title\": \"Geography\", \"titleColor\": \"#030140\", \"titleFont\": \"LuloCleanOne-Bold\", \"titleFontSize\": 15, \"titlePadding\": 10}, \"field\": \"Geography\", \"scale\": {\"paddingInner\": 0}, \"type\": \"ordinal\"}}, \"transform\": [{\"calculate\": \"\\\"\\\" + datum.x + datum.y\", \"as\": \"label\"}]}], \"data\": {\"name\": \"data-88fdb91f02214d145f9c343b912c138e\"}, \"height\": 300, \"title\": \"Monthly Index Return\", \"width\": 300}], \"$schema\": \"https://vega.github.io/schema/vega-lite/v4.17.0.json\", \"datasets\": {\"data-dee50e37d16a204c02262b54a3b1fe73\": [{\"Index Name\": \"Invesco Asia ex-Japan Total Market Small Cap Index\", \"Family\": \"Market Beta\", \"Geography\": \"Asia ex-Japan\", \"Size\": \"Small\", \"1 Mo\": -9.56, \"1 Yr\": 0.021606773128882}, {\"Index Name\": \"Invesco Europe Small Cap Index\", \"Family\": \"Market Beta\", \"Geography\": \"Europe\", \"Size\": \"Small\", \"1 Mo\": -9.56, \"1 Yr\": 0.0454509197866295}, {\"Index Name\": \"Invesco US Small Cap Index\", \"Family\": \"Market Beta\", \"Geography\": \"US\", \"Size\": \"Small\", \"1 Mo\": -9.27, \"1 Yr\": 0.00956576820638455}, {\"Index Name\": \"Invesco Global Small Cap Index\", \"Family\": \"Market Beta\", \"Geography\": \"Global\", \"Size\": \"Small\", \"1 Mo\": -8.81, \"1 Yr\": 0.0110437346905488}, {\"Index Name\": \"Invesco Global ex-US Small Cap Index\", \"Family\": \"Market Beta\", \"Geography\": \"Global ex-US\", \"Size\": \"Small\", \"1 Mo\": -8.31, \"1 Yr\": 0.0133676059108816}, {\"Index Name\": \"Invesco US Large Mid Cap Index\", \"Family\": \"Market Beta\", \"Geography\": \"US\", \"Size\": \"Lg Mid\", \"1 Mo\": -5.73, \"1 Yr\": 0.201648268914033}, {\"Index Name\": \"Invesco Global Emerging Markets Small Cap Index\", \"Family\": \"Market Beta\", \"Geography\": \"Global: Emerging\", \"Size\": \"Small\", \"1 Mo\": -5.5200000000000005, \"1 Yr\": 0.0923706818874641}, {\"Index Name\": \"Invesco Global Index\", \"Family\": \"Market Beta\", \"Geography\": \"Global\", \"Size\": \"Lg Mid\", \"1 Mo\": -5.4, \"1 Yr\": 0.160256564364672}, {\"Index Name\": \"Invesco Global ex-US Index\", \"Family\": \"Market Beta\", \"Geography\": \"Global ex-US\", \"Size\": \"Lg Mid\", \"1 Mo\": -4.65, \"1 Yr\": 0.0791874124786061}, {\"Index Name\": \"Invesco Europe Index\", \"Family\": \"Market Beta\", \"Geography\": \"Europe\", \"Size\": \"Lg Mid\", \"1 Mo\": -4.61, \"1 Yr\": 0.124592872850381}, {\"Index Name\": \"Invesco Asia ex-Japan Total Market Index\", \"Family\": \"Market Beta\", \"Geography\": \"Asia ex-Japan\", \"Size\": \"Lg Mid\", \"1 Mo\": -3.15, \"1 Yr\": -0.163358121811812}, {\"Index Name\": \"Invesco Canada Small Cap Index\", \"Family\": \"Market Beta\", \"Geography\": \"Canada\", \"Size\": \"Small\", \"1 Mo\": -2.21, \"1 Yr\": 0.133022434605715}, {\"Index Name\": \"Invesco Canada Large Mid Cap Index \", \"Family\": \"Market Beta\", \"Geography\": \"Canada\", \"Size\": \"Lg Mid\", \"1 Mo\": -0.8, \"1 Yr\": 0.286922778141474}, {\"Index Name\": \"Invesco Global Emerging Markets Index\", \"Family\": \"Market Beta\", \"Geography\": \"Global: Emerging\", \"Size\": \"Lg Mid\", \"1 Mo\": -0.76, \"1 Yr\": -0.126238756288063}], \"data-88fdb91f02214d145f9c343b912c138e\": [{\"Index Name\": \"Invesco Asia ex-Japan Total Market Index\", \"Family\": \"Market Beta\", \"Geography\": \"Asia ex-Japan\", \"Size\": \"Lg Mid\", \"1 Mo\": -3.15, \"1 Yr\": -16.34}, {\"Index Name\": \"Invesco Global Emerging Markets Index\", \"Family\": \"Market Beta\", \"Geography\": \"Global: Emerging\", \"Size\": \"Lg Mid\", \"1 Mo\": -0.76, \"1 Yr\": -12.63}, {\"Index Name\": \"Invesco US Small Cap Index\", \"Family\": \"Market Beta\", \"Geography\": \"US\", \"Size\": \"Small\", \"1 Mo\": -9.27, \"1 Yr\": 0.9500000000000001}, {\"Index Name\": \"Invesco Global Small Cap Index\", \"Family\": \"Market Beta\", \"Geography\": \"Global\", \"Size\": \"Small\", \"1 Mo\": -8.81, \"1 Yr\": 1.1}, {\"Index Name\": \"Invesco Global ex-US Small Cap Index\", \"Family\": \"Market Beta\", \"Geography\": \"Global ex-US\", \"Size\": \"Small\", \"1 Mo\": -8.31, \"1 Yr\": 1.33}, {\"Index Name\": \"Invesco Asia ex-Japan Total Market Small Cap Index\", \"Family\": \"Market Beta\", \"Geography\": \"Asia ex-Japan\", \"Size\": \"Small\", \"1 Mo\": -9.56, \"1 Yr\": 2.16}, {\"Index Name\": \"Invesco Europe Small Cap Index\", \"Family\": \"Market Beta\", \"Geography\": \"Europe\", \"Size\": \"Small\", \"1 Mo\": -9.56, \"1 Yr\": 4.54}, {\"Index Name\": \"Invesco Global ex-US Index\", \"Family\": \"Market Beta\", \"Geography\": \"Global ex-US\", \"Size\": \"Lg Mid\", \"1 Mo\": -4.65, \"1 Yr\": 7.91}, {\"Index Name\": \"Invesco Global Emerging Markets Small Cap Index\", \"Family\": \"Market Beta\", \"Geography\": \"Global: Emerging\", \"Size\": \"Small\", \"1 Mo\": -5.5200000000000005, \"1 Yr\": 9.23}, {\"Index Name\": \"Invesco Europe Index\", \"Family\": \"Market Beta\", \"Geography\": \"Europe\", \"Size\": \"Lg Mid\", \"1 Mo\": -4.61, \"1 Yr\": 12.450000000000001}, {\"Index Name\": \"Invesco Canada Small Cap Index\", \"Family\": \"Market Beta\", \"Geography\": \"Canada\", \"Size\": \"Small\", \"1 Mo\": -2.21, \"1 Yr\": 13.3}, {\"Index Name\": \"Invesco Global Index\", \"Family\": \"Market Beta\", \"Geography\": \"Global\", \"Size\": \"Lg Mid\", \"1 Mo\": -5.4, \"1 Yr\": 16.02}, {\"Index Name\": \"Invesco US Large Mid Cap Index\", \"Family\": \"Market Beta\", \"Geography\": \"US\", \"Size\": \"Lg Mid\", \"1 Mo\": -5.73, \"1 Yr\": 20.16}, {\"Index Name\": \"Invesco Canada Large Mid Cap Index \", \"Family\": \"Market Beta\", \"Geography\": \"Canada\", \"Size\": \"Lg Mid\", \"1 Mo\": -0.8, \"1 Yr\": 28.69}]}}, {\"mode\": \"vega-lite\"});\n",
       "</script>"
      ],
      "text/plain": [
       "alt.HConcatChart(...)"
      ]
     },
     "execution_count": 844,
     "metadata": {},
     "output_type": "execute_result"
    }
   ],
   "source": [
    "month = return_beta( \"1 Mo\", \"Monthly Index Return\", pallett=pallett)\n",
    "year = return_beta( \"1 Yr\", \"Monthly Index Return\", pallett=pallett)\n",
    "\n",
    "apply_all(month | year, pallett)"
   ]
  }
 ],
 "metadata": {
  "interpreter": {
   "hash": "e9f6727800535e87952a05ece25243350d7781250ff4d7058c2f3577918c438f"
  },
  "kernelspec": {
   "display_name": "Python 3.9.7 ('CSC630')",
   "language": "python",
   "name": "python3"
  },
  "language_info": {
   "codemirror_mode": {
    "name": "ipython",
    "version": 3
   },
   "file_extension": ".py",
   "mimetype": "text/x-python",
   "name": "python",
   "nbconvert_exporter": "python",
   "pygments_lexer": "ipython3",
   "version": "3.9.7"
  },
  "orig_nbformat": 4
 },
 "nbformat": 4,
 "nbformat_minor": 2
}
