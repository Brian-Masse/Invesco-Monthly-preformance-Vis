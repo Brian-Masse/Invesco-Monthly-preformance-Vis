{
 "cells": [
  {
   "cell_type": "code",
   "execution_count": 893,
   "metadata": {},
   "outputs": [],
   "source": [
    "import pandas as pd\n",
    "import altair as alt\n",
    "import math\n",
    "import numpy as np \n",
    "\n",
    "import coffee.color as c\n",
    "import coffee.palletts as p"
   ]
  },
  {
   "cell_type": "code",
   "execution_count": 894,
   "metadata": {},
   "outputs": [],
   "source": [
    "xls = pd.ExcelFile(\n",
    "    \"./data/Data viz.xlsx\"\n",
    ")\n",
    "market_beta = pd.read_excel( xls, \"Market Beta\" )\n",
    "factors = pd.read_excel( xls, \"Factors\" )\n",
    "target_maturity = pd.read_excel( xls, \"Target Maturity\" )"
   ]
  },
  {
   "cell_type": "code",
   "execution_count": 895,
   "metadata": {},
   "outputs": [],
   "source": [
    "def return_legend(title, pallett=p.green_tea, ):\n",
    "    return alt.Legend(\n",
    "        cornerRadius           =10,\n",
    "        padding             =10,\n",
    "        fillColor           =pallett.back_HEX,\n",
    "\n",
    "        gradientStrokeWidth =2,\n",
    "        gradientStrokeColor =pallett.text_HEX,\n",
    "\n",
    "        labelColor          =pallett.text_HEX,\n",
    "        labelFont           =\"LuloCleanOne-Bold\",\n",
    "        labelFontSize       =10,\n",
    "\n",
    "        title               =title,      \n",
    "        titleColor          =pallett.text_HEX,\n",
    "        titleFont           =\"LuloCleanOne-Bold\",\n",
    "        titleFontSize       =15, \n",
    "    )\n",
    "\n",
    "def return_axis(title, pallett=p.green_tea, ):\n",
    "    return alt.Axis(\n",
    "        labelColor          =pallett.text_HEX,\n",
    "        labelFont           =\"LuloCleanOne-Bold\",\n",
    "        labelFontSize       =10,\n",
    "\n",
    "        title               =title,      \n",
    "        titlePadding        =10,\n",
    "        titleColor          =pallett.text_HEX,\n",
    "        titleFont           =\"LuloCleanOne-Bold\",\n",
    "        titleFontSize       =15, \n",
    "    )\n",
    "\n",
    "def apply_config(graph, size=(300, 300), title=\"\"):\n",
    "    graph = graph.properties(\n",
    "        title=title,\n",
    "        width = size[0],\n",
    "        height = size[1]\n",
    "    )\n",
    "    return graph\n",
    "\n",
    "def apply_all( graph, pallett=p.green_tea ):\n",
    "    graph = graph.configure(\n",
    "        font=\"LuloCleanOne-Bold\",\n",
    "        background=pallett.back_HEX\n",
    "    )\n",
    "    graph = graph.configure_title(\n",
    "        fontSize=30,\n",
    "        color=pallett.text_HEX,\n",
    "    )\n",
    "    graph = graph.configure_range (\n",
    "        category=pallett.grad,\n",
    "        heatmap=pallett.grad\n",
    "    )\n",
    "    return graph"
   ]
  },
  {
   "cell_type": "code",
   "execution_count": 896,
   "metadata": {},
   "outputs": [],
   "source": [
    "prim = c.color(219, 218, 245)\n",
    "second = c.color(111, 91, 130)\n",
    "\n",
    "grad = prim.return_color_grad(second, 100)\n",
    "\n",
    "back = c.color(4, 0, 117)\n",
    "text = c.color(222, 209, 255)\n",
    "\n",
    "pallett = c.pallet(grad, prim, second, back, back, text)"
   ]
  },
  {
   "cell_type": "code",
   "execution_count": 897,
   "metadata": {},
   "outputs": [],
   "source": [
    "def round_dig(x, base=10, digits=-2):\n",
    "    num = x / ( math.pow( base, digits ) )\n",
    "    num = math.floor(num)\n",
    "    \n",
    "    return ( num * ( math.pow( base, digits ) ) )\n",
    "\n",
    "def convert_perc(perc):\n",
    "    num = perc * 100\n",
    "    return round_dig( num )\n"
   ]
  },
  {
   "cell_type": "markdown",
   "metadata": {},
   "source": [
    "# **MARKET BETA**"
   ]
  },
  {
   "cell_type": "code",
   "execution_count": 898,
   "metadata": {},
   "outputs": [],
   "source": [
    "def return_beta( series, title, size=(300, 300), pallett=pallett  ):\n",
    "\n",
    "    market_beta[series] = pd.Series( map( convert_perc, market_beta[series] ))\n",
    "\n",
    "    sorted = market_beta.copy()\n",
    "    sorted = sorted.sort_values( by=series )\n",
    "\n",
    "    return return_beta_chart( sorted, series, title, size, pallett  )"
   ]
  },
  {
   "cell_type": "code",
   "execution_count": 899,
   "metadata": {},
   "outputs": [],
   "source": [
    "def return_beta_chart( data, series, title, size=(300, 300), pallett=pallett ):\n",
    "    chart = alt.Chart(data)\n",
    "\n",
    "    heatmap = chart.mark_rect().encode(\n",
    "        alt.X('Size:O', \n",
    "            scale=alt.Scale(paddingInner=0),\n",
    "            axis=return_axis(\"Market Size\", pallett)),\n",
    "            \n",
    "        alt.Y('Geography:O', \n",
    "        scale=alt.Scale(paddingInner=0),\n",
    "        axis=return_axis(\"Geography\", pallett) ),\n",
    "\n",
    "        color=alt.Color(series + ':Q', \n",
    "            legend=return_legend(\"Return (%)\", pallett)\n",
    "        ),)\n",
    "\n",
    "    text = heatmap.mark_text().transform_calculate(label = '\"\" + datum.x + datum.y').encode(\n",
    "        text=series + ':Q',\n",
    "        color={'value': pallett.back_HEX})\n",
    "\n",
    "    return apply_config((heatmap + text), size, title)"
   ]
  },
  {
   "cell_type": "code",
   "execution_count": 900,
   "metadata": {},
   "outputs": [
    {
     "data": {
      "text/html": [
       "\n",
       "<div id=\"altair-viz-b894b46595544e0ea3829ce61c562f97\"></div>\n",
       "<script type=\"text/javascript\">\n",
       "  var VEGA_DEBUG = (typeof VEGA_DEBUG == \"undefined\") ? {} : VEGA_DEBUG;\n",
       "  (function(spec, embedOpt){\n",
       "    let outputDiv = document.currentScript.previousElementSibling;\n",
       "    if (outputDiv.id !== \"altair-viz-b894b46595544e0ea3829ce61c562f97\") {\n",
       "      outputDiv = document.getElementById(\"altair-viz-b894b46595544e0ea3829ce61c562f97\");\n",
       "    }\n",
       "    const paths = {\n",
       "      \"vega\": \"https://cdn.jsdelivr.net/npm//vega@5?noext\",\n",
       "      \"vega-lib\": \"https://cdn.jsdelivr.net/npm//vega-lib?noext\",\n",
       "      \"vega-lite\": \"https://cdn.jsdelivr.net/npm//vega-lite@4.17.0?noext\",\n",
       "      \"vega-embed\": \"https://cdn.jsdelivr.net/npm//vega-embed@6?noext\",\n",
       "    };\n",
       "\n",
       "    function maybeLoadScript(lib, version) {\n",
       "      var key = `${lib.replace(\"-\", \"\")}_version`;\n",
       "      return (VEGA_DEBUG[key] == version) ?\n",
       "        Promise.resolve(paths[lib]) :\n",
       "        new Promise(function(resolve, reject) {\n",
       "          var s = document.createElement('script');\n",
       "          document.getElementsByTagName(\"head\")[0].appendChild(s);\n",
       "          s.async = true;\n",
       "          s.onload = () => {\n",
       "            VEGA_DEBUG[key] = version;\n",
       "            return resolve(paths[lib]);\n",
       "          };\n",
       "          s.onerror = () => reject(`Error loading script: ${paths[lib]}`);\n",
       "          s.src = paths[lib];\n",
       "        });\n",
       "    }\n",
       "\n",
       "    function showError(err) {\n",
       "      outputDiv.innerHTML = `<div class=\"error\" style=\"color:red;\">${err}</div>`;\n",
       "      throw err;\n",
       "    }\n",
       "\n",
       "    function displayChart(vegaEmbed) {\n",
       "      vegaEmbed(outputDiv, spec, embedOpt)\n",
       "        .catch(err => showError(`Javascript Error: ${err.message}<br>This usually means there's a typo in your chart specification. See the javascript console for the full traceback.`));\n",
       "    }\n",
       "\n",
       "    if(typeof define === \"function\" && define.amd) {\n",
       "      requirejs.config({paths});\n",
       "      require([\"vega-embed\"], displayChart, err => showError(`Error loading script: ${err.message}`));\n",
       "    } else {\n",
       "      maybeLoadScript(\"vega\", \"5\")\n",
       "        .then(() => maybeLoadScript(\"vega-lite\", \"4.17.0\"))\n",
       "        .then(() => maybeLoadScript(\"vega-embed\", \"6\"))\n",
       "        .catch(showError)\n",
       "        .then(() => displayChart(vegaEmbed));\n",
       "    }\n",
       "  })({\"config\": {\"view\": {\"continuousWidth\": 400, \"continuousHeight\": 300}, \"background\": \"#040075\", \"font\": \"LuloCleanOne-Bold\", \"range\": {\"category\": [\"#DBDAF5\", \"#D9D8F3\", \"#D8D7F2\", \"#D7D6F1\", \"#D6D4F0\", \"#D5D3EF\", \"#D4D2EE\", \"#D3D1EC\", \"#D2CFEB\", \"#D1CEEA\", \"#D0CDE9\", \"#CFCBE8\", \"#CDCAE7\", \"#CCC9E5\", \"#CBC8E4\", \"#CAC6E3\", \"#C9C5E2\", \"#C8C4E1\", \"#C7C2E0\", \"#C6C1DE\", \"#C5C0DD\", \"#C4BFDC\", \"#C3BDDB\", \"#C1BCDA\", \"#C0BBD9\", \"#BFB9D7\", \"#BEB8D6\", \"#BDB7D5\", \"#BCB6D4\", \"#BBB4D3\", \"#BAB3D2\", \"#B9B2D0\", \"#B8B0CF\", \"#B7AFCE\", \"#B5AECD\", \"#B4ADCC\", \"#B3ABCB\", \"#B2AACA\", \"#B1A9C8\", \"#B0A7C7\", \"#AFA6C6\", \"#AEA5C5\", \"#ADA4C4\", \"#ACA2C3\", \"#ABA1C1\", \"#A9A0C0\", \"#A89EBF\", \"#A79DBE\", \"#A69CBD\", \"#A59BBC\", \"#A499BA\", \"#A398B9\", \"#A297B8\", \"#A196B7\", \"#A094B6\", \"#9F93B5\", \"#9D92B3\", \"#9C90B2\", \"#9B8FB1\", \"#9A8EB0\", \"#998DAF\", \"#988BAE\", \"#978AAC\", \"#9689AB\", \"#9587AA\", \"#9486A9\", \"#9385A8\", \"#9184A7\", \"#9082A6\", \"#8F81A4\", \"#8E80A3\", \"#8D7EA2\", \"#8C7DA1\", \"#8B7CA0\", \"#8A7B9F\", \"#89799D\", \"#88789C\", \"#87779B\", \"#85759A\", \"#847499\", \"#837398\", \"#827296\", \"#817095\", \"#806F94\", \"#7F6E93\", \"#7E6C92\", \"#7D6B91\", \"#7C6A8F\", \"#7B698E\", \"#79678D\", \"#78668C\", \"#77658B\", \"#76638A\", \"#756288\", \"#746187\", \"#736086\", \"#725E85\", \"#715D84\", \"#705C83\", \"#6F5B82\"], \"heatmap\": [\"#DBDAF5\", \"#D9D8F3\", \"#D8D7F2\", \"#D7D6F1\", \"#D6D4F0\", \"#D5D3EF\", \"#D4D2EE\", \"#D3D1EC\", \"#D2CFEB\", \"#D1CEEA\", \"#D0CDE9\", \"#CFCBE8\", \"#CDCAE7\", \"#CCC9E5\", \"#CBC8E4\", \"#CAC6E3\", \"#C9C5E2\", \"#C8C4E1\", \"#C7C2E0\", \"#C6C1DE\", \"#C5C0DD\", \"#C4BFDC\", \"#C3BDDB\", \"#C1BCDA\", \"#C0BBD9\", \"#BFB9D7\", \"#BEB8D6\", \"#BDB7D5\", \"#BCB6D4\", \"#BBB4D3\", \"#BAB3D2\", \"#B9B2D0\", \"#B8B0CF\", \"#B7AFCE\", \"#B5AECD\", \"#B4ADCC\", \"#B3ABCB\", \"#B2AACA\", \"#B1A9C8\", \"#B0A7C7\", \"#AFA6C6\", \"#AEA5C5\", \"#ADA4C4\", \"#ACA2C3\", \"#ABA1C1\", \"#A9A0C0\", \"#A89EBF\", \"#A79DBE\", \"#A69CBD\", \"#A59BBC\", \"#A499BA\", \"#A398B9\", \"#A297B8\", \"#A196B7\", \"#A094B6\", \"#9F93B5\", \"#9D92B3\", \"#9C90B2\", \"#9B8FB1\", \"#9A8EB0\", \"#998DAF\", \"#988BAE\", \"#978AAC\", \"#9689AB\", \"#9587AA\", \"#9486A9\", \"#9385A8\", \"#9184A7\", \"#9082A6\", \"#8F81A4\", \"#8E80A3\", \"#8D7EA2\", \"#8C7DA1\", \"#8B7CA0\", \"#8A7B9F\", \"#89799D\", \"#88789C\", \"#87779B\", \"#85759A\", \"#847499\", \"#837398\", \"#827296\", \"#817095\", \"#806F94\", \"#7F6E93\", \"#7E6C92\", \"#7D6B91\", \"#7C6A8F\", \"#7B698E\", \"#79678D\", \"#78668C\", \"#77658B\", \"#76638A\", \"#756288\", \"#746187\", \"#736086\", \"#725E85\", \"#715D84\", \"#705C83\", \"#6F5B82\"]}, \"title\": {\"color\": \"#DED1FF\", \"fontSize\": 30}}, \"layer\": [{\"mark\": \"rect\", \"encoding\": {\"color\": {\"field\": \"1 Mo\", \"legend\": {\"cornerRadius\": 10, \"fillColor\": \"#040075\", \"gradientStrokeColor\": \"#DED1FF\", \"gradientStrokeWidth\": 2, \"labelColor\": \"#DED1FF\", \"labelFont\": \"LuloCleanOne-Bold\", \"labelFontSize\": 10, \"padding\": 10, \"title\": \"Return (%)\", \"titleColor\": \"#DED1FF\", \"titleFont\": \"LuloCleanOne-Bold\", \"titleFontSize\": 15}, \"type\": \"quantitative\"}, \"x\": {\"axis\": {\"labelColor\": \"#DED1FF\", \"labelFont\": \"LuloCleanOne-Bold\", \"labelFontSize\": 10, \"title\": \"Market Size\", \"titleColor\": \"#DED1FF\", \"titleFont\": \"LuloCleanOne-Bold\", \"titleFontSize\": 15, \"titlePadding\": 10}, \"field\": \"Size\", \"scale\": {\"paddingInner\": 0}, \"type\": \"ordinal\"}, \"y\": {\"axis\": {\"labelColor\": \"#DED1FF\", \"labelFont\": \"LuloCleanOne-Bold\", \"labelFontSize\": 10, \"title\": \"Geography\", \"titleColor\": \"#DED1FF\", \"titleFont\": \"LuloCleanOne-Bold\", \"titleFontSize\": 15, \"titlePadding\": 10}, \"field\": \"Geography\", \"scale\": {\"paddingInner\": 0}, \"type\": \"ordinal\"}}}, {\"mark\": \"text\", \"encoding\": {\"color\": {\"value\": \"#040075\"}, \"text\": {\"field\": \"1 Mo\", \"type\": \"quantitative\"}, \"x\": {\"axis\": {\"labelColor\": \"#DED1FF\", \"labelFont\": \"LuloCleanOne-Bold\", \"labelFontSize\": 10, \"title\": \"Market Size\", \"titleColor\": \"#DED1FF\", \"titleFont\": \"LuloCleanOne-Bold\", \"titleFontSize\": 15, \"titlePadding\": 10}, \"field\": \"Size\", \"scale\": {\"paddingInner\": 0}, \"type\": \"ordinal\"}, \"y\": {\"axis\": {\"labelColor\": \"#DED1FF\", \"labelFont\": \"LuloCleanOne-Bold\", \"labelFontSize\": 10, \"title\": \"Geography\", \"titleColor\": \"#DED1FF\", \"titleFont\": \"LuloCleanOne-Bold\", \"titleFontSize\": 15, \"titlePadding\": 10}, \"field\": \"Geography\", \"scale\": {\"paddingInner\": 0}, \"type\": \"ordinal\"}}, \"transform\": [{\"calculate\": \"\\\"\\\" + datum.x + datum.y\", \"as\": \"label\"}]}], \"data\": {\"name\": \"data-dee50e37d16a204c02262b54a3b1fe73\"}, \"height\": 300, \"title\": \"Monthly Index Return\", \"width\": 300, \"$schema\": \"https://vega.github.io/schema/vega-lite/v4.17.0.json\", \"datasets\": {\"data-dee50e37d16a204c02262b54a3b1fe73\": [{\"Index Name\": \"Invesco Asia ex-Japan Total Market Small Cap Index\", \"Family\": \"Market Beta\", \"Geography\": \"Asia ex-Japan\", \"Size\": \"Small\", \"1 Mo\": -9.56, \"1 Yr\": 0.021606773128882}, {\"Index Name\": \"Invesco Europe Small Cap Index\", \"Family\": \"Market Beta\", \"Geography\": \"Europe\", \"Size\": \"Small\", \"1 Mo\": -9.56, \"1 Yr\": 0.0454509197866295}, {\"Index Name\": \"Invesco US Small Cap Index\", \"Family\": \"Market Beta\", \"Geography\": \"US\", \"Size\": \"Small\", \"1 Mo\": -9.27, \"1 Yr\": 0.00956576820638455}, {\"Index Name\": \"Invesco Global Small Cap Index\", \"Family\": \"Market Beta\", \"Geography\": \"Global\", \"Size\": \"Small\", \"1 Mo\": -8.81, \"1 Yr\": 0.0110437346905488}, {\"Index Name\": \"Invesco Global ex-US Small Cap Index\", \"Family\": \"Market Beta\", \"Geography\": \"Global ex-US\", \"Size\": \"Small\", \"1 Mo\": -8.31, \"1 Yr\": 0.0133676059108816}, {\"Index Name\": \"Invesco US Large Mid Cap Index\", \"Family\": \"Market Beta\", \"Geography\": \"US\", \"Size\": \"Lg Mid\", \"1 Mo\": -5.73, \"1 Yr\": 0.201648268914033}, {\"Index Name\": \"Invesco Global Emerging Markets Small Cap Index\", \"Family\": \"Market Beta\", \"Geography\": \"Global: Emerging\", \"Size\": \"Small\", \"1 Mo\": -5.5200000000000005, \"1 Yr\": 0.0923706818874641}, {\"Index Name\": \"Invesco Global Index\", \"Family\": \"Market Beta\", \"Geography\": \"Global\", \"Size\": \"Lg Mid\", \"1 Mo\": -5.4, \"1 Yr\": 0.160256564364672}, {\"Index Name\": \"Invesco Global ex-US Index\", \"Family\": \"Market Beta\", \"Geography\": \"Global ex-US\", \"Size\": \"Lg Mid\", \"1 Mo\": -4.65, \"1 Yr\": 0.0791874124786061}, {\"Index Name\": \"Invesco Europe Index\", \"Family\": \"Market Beta\", \"Geography\": \"Europe\", \"Size\": \"Lg Mid\", \"1 Mo\": -4.61, \"1 Yr\": 0.124592872850381}, {\"Index Name\": \"Invesco Asia ex-Japan Total Market Index\", \"Family\": \"Market Beta\", \"Geography\": \"Asia ex-Japan\", \"Size\": \"Lg Mid\", \"1 Mo\": -3.15, \"1 Yr\": -0.163358121811812}, {\"Index Name\": \"Invesco Canada Small Cap Index\", \"Family\": \"Market Beta\", \"Geography\": \"Canada\", \"Size\": \"Small\", \"1 Mo\": -2.21, \"1 Yr\": 0.133022434605715}, {\"Index Name\": \"Invesco Canada Large Mid Cap Index \", \"Family\": \"Market Beta\", \"Geography\": \"Canada\", \"Size\": \"Lg Mid\", \"1 Mo\": -0.8, \"1 Yr\": 0.286922778141474}, {\"Index Name\": \"Invesco Global Emerging Markets Index\", \"Family\": \"Market Beta\", \"Geography\": \"Global: Emerging\", \"Size\": \"Lg Mid\", \"1 Mo\": -0.76, \"1 Yr\": -0.126238756288063}]}}, {\"mode\": \"vega-lite\"});\n",
       "</script>"
      ],
      "text/plain": [
       "alt.LayerChart(...)"
      ]
     },
     "execution_count": 900,
     "metadata": {},
     "output_type": "execute_result"
    }
   ],
   "source": [
    "month = return_beta( \"1 Mo\", \"Monthly Index Return\", pallett=pallett)\n",
    "year = return_beta( \"1 Yr\", \"Yearly Index Return\", pallett=pallett)\n",
    "\n",
    "apply_all(month, pallett)"
   ]
  },
  {
   "cell_type": "code",
   "execution_count": 901,
   "metadata": {},
   "outputs": [
    {
     "data": {
      "text/html": [
       "\n",
       "<div id=\"altair-viz-944cb4eef7db4ea3b5cbe09ed69c7d0a\"></div>\n",
       "<script type=\"text/javascript\">\n",
       "  var VEGA_DEBUG = (typeof VEGA_DEBUG == \"undefined\") ? {} : VEGA_DEBUG;\n",
       "  (function(spec, embedOpt){\n",
       "    let outputDiv = document.currentScript.previousElementSibling;\n",
       "    if (outputDiv.id !== \"altair-viz-944cb4eef7db4ea3b5cbe09ed69c7d0a\") {\n",
       "      outputDiv = document.getElementById(\"altair-viz-944cb4eef7db4ea3b5cbe09ed69c7d0a\");\n",
       "    }\n",
       "    const paths = {\n",
       "      \"vega\": \"https://cdn.jsdelivr.net/npm//vega@5?noext\",\n",
       "      \"vega-lib\": \"https://cdn.jsdelivr.net/npm//vega-lib?noext\",\n",
       "      \"vega-lite\": \"https://cdn.jsdelivr.net/npm//vega-lite@4.17.0?noext\",\n",
       "      \"vega-embed\": \"https://cdn.jsdelivr.net/npm//vega-embed@6?noext\",\n",
       "    };\n",
       "\n",
       "    function maybeLoadScript(lib, version) {\n",
       "      var key = `${lib.replace(\"-\", \"\")}_version`;\n",
       "      return (VEGA_DEBUG[key] == version) ?\n",
       "        Promise.resolve(paths[lib]) :\n",
       "        new Promise(function(resolve, reject) {\n",
       "          var s = document.createElement('script');\n",
       "          document.getElementsByTagName(\"head\")[0].appendChild(s);\n",
       "          s.async = true;\n",
       "          s.onload = () => {\n",
       "            VEGA_DEBUG[key] = version;\n",
       "            return resolve(paths[lib]);\n",
       "          };\n",
       "          s.onerror = () => reject(`Error loading script: ${paths[lib]}`);\n",
       "          s.src = paths[lib];\n",
       "        });\n",
       "    }\n",
       "\n",
       "    function showError(err) {\n",
       "      outputDiv.innerHTML = `<div class=\"error\" style=\"color:red;\">${err}</div>`;\n",
       "      throw err;\n",
       "    }\n",
       "\n",
       "    function displayChart(vegaEmbed) {\n",
       "      vegaEmbed(outputDiv, spec, embedOpt)\n",
       "        .catch(err => showError(`Javascript Error: ${err.message}<br>This usually means there's a typo in your chart specification. See the javascript console for the full traceback.`));\n",
       "    }\n",
       "\n",
       "    if(typeof define === \"function\" && define.amd) {\n",
       "      requirejs.config({paths});\n",
       "      require([\"vega-embed\"], displayChart, err => showError(`Error loading script: ${err.message}`));\n",
       "    } else {\n",
       "      maybeLoadScript(\"vega\", \"5\")\n",
       "        .then(() => maybeLoadScript(\"vega-lite\", \"4.17.0\"))\n",
       "        .then(() => maybeLoadScript(\"vega-embed\", \"6\"))\n",
       "        .catch(showError)\n",
       "        .then(() => displayChart(vegaEmbed));\n",
       "    }\n",
       "  })({\"config\": {\"view\": {\"continuousWidth\": 400, \"continuousHeight\": 300}, \"background\": \"#040075\", \"font\": \"LuloCleanOne-Bold\", \"range\": {\"category\": [\"#DBDAF5\", \"#D9D8F3\", \"#D8D7F2\", \"#D7D6F1\", \"#D6D4F0\", \"#D5D3EF\", \"#D4D2EE\", \"#D3D1EC\", \"#D2CFEB\", \"#D1CEEA\", \"#D0CDE9\", \"#CFCBE8\", \"#CDCAE7\", \"#CCC9E5\", \"#CBC8E4\", \"#CAC6E3\", \"#C9C5E2\", \"#C8C4E1\", \"#C7C2E0\", \"#C6C1DE\", \"#C5C0DD\", \"#C4BFDC\", \"#C3BDDB\", \"#C1BCDA\", \"#C0BBD9\", \"#BFB9D7\", \"#BEB8D6\", \"#BDB7D5\", \"#BCB6D4\", \"#BBB4D3\", \"#BAB3D2\", \"#B9B2D0\", \"#B8B0CF\", \"#B7AFCE\", \"#B5AECD\", \"#B4ADCC\", \"#B3ABCB\", \"#B2AACA\", \"#B1A9C8\", \"#B0A7C7\", \"#AFA6C6\", \"#AEA5C5\", \"#ADA4C4\", \"#ACA2C3\", \"#ABA1C1\", \"#A9A0C0\", \"#A89EBF\", \"#A79DBE\", \"#A69CBD\", \"#A59BBC\", \"#A499BA\", \"#A398B9\", \"#A297B8\", \"#A196B7\", \"#A094B6\", \"#9F93B5\", \"#9D92B3\", \"#9C90B2\", \"#9B8FB1\", \"#9A8EB0\", \"#998DAF\", \"#988BAE\", \"#978AAC\", \"#9689AB\", \"#9587AA\", \"#9486A9\", \"#9385A8\", \"#9184A7\", \"#9082A6\", \"#8F81A4\", \"#8E80A3\", \"#8D7EA2\", \"#8C7DA1\", \"#8B7CA0\", \"#8A7B9F\", \"#89799D\", \"#88789C\", \"#87779B\", \"#85759A\", \"#847499\", \"#837398\", \"#827296\", \"#817095\", \"#806F94\", \"#7F6E93\", \"#7E6C92\", \"#7D6B91\", \"#7C6A8F\", \"#7B698E\", \"#79678D\", \"#78668C\", \"#77658B\", \"#76638A\", \"#756288\", \"#746187\", \"#736086\", \"#725E85\", \"#715D84\", \"#705C83\", \"#6F5B82\"], \"heatmap\": [\"#DBDAF5\", \"#D9D8F3\", \"#D8D7F2\", \"#D7D6F1\", \"#D6D4F0\", \"#D5D3EF\", \"#D4D2EE\", \"#D3D1EC\", \"#D2CFEB\", \"#D1CEEA\", \"#D0CDE9\", \"#CFCBE8\", \"#CDCAE7\", \"#CCC9E5\", \"#CBC8E4\", \"#CAC6E3\", \"#C9C5E2\", \"#C8C4E1\", \"#C7C2E0\", \"#C6C1DE\", \"#C5C0DD\", \"#C4BFDC\", \"#C3BDDB\", \"#C1BCDA\", \"#C0BBD9\", \"#BFB9D7\", \"#BEB8D6\", \"#BDB7D5\", \"#BCB6D4\", \"#BBB4D3\", \"#BAB3D2\", \"#B9B2D0\", \"#B8B0CF\", \"#B7AFCE\", \"#B5AECD\", \"#B4ADCC\", \"#B3ABCB\", \"#B2AACA\", \"#B1A9C8\", \"#B0A7C7\", \"#AFA6C6\", \"#AEA5C5\", \"#ADA4C4\", \"#ACA2C3\", \"#ABA1C1\", \"#A9A0C0\", \"#A89EBF\", \"#A79DBE\", \"#A69CBD\", \"#A59BBC\", \"#A499BA\", \"#A398B9\", \"#A297B8\", \"#A196B7\", \"#A094B6\", \"#9F93B5\", \"#9D92B3\", \"#9C90B2\", \"#9B8FB1\", \"#9A8EB0\", \"#998DAF\", \"#988BAE\", \"#978AAC\", \"#9689AB\", \"#9587AA\", \"#9486A9\", \"#9385A8\", \"#9184A7\", \"#9082A6\", \"#8F81A4\", \"#8E80A3\", \"#8D7EA2\", \"#8C7DA1\", \"#8B7CA0\", \"#8A7B9F\", \"#89799D\", \"#88789C\", \"#87779B\", \"#85759A\", \"#847499\", \"#837398\", \"#827296\", \"#817095\", \"#806F94\", \"#7F6E93\", \"#7E6C92\", \"#7D6B91\", \"#7C6A8F\", \"#7B698E\", \"#79678D\", \"#78668C\", \"#77658B\", \"#76638A\", \"#756288\", \"#746187\", \"#736086\", \"#725E85\", \"#715D84\", \"#705C83\", \"#6F5B82\"]}, \"title\": {\"color\": \"#DED1FF\", \"fontSize\": 30}}, \"layer\": [{\"mark\": \"rect\", \"encoding\": {\"color\": {\"field\": \"1 Yr\", \"legend\": {\"cornerRadius\": 10, \"fillColor\": \"#040075\", \"gradientStrokeColor\": \"#DED1FF\", \"gradientStrokeWidth\": 2, \"labelColor\": \"#DED1FF\", \"labelFont\": \"LuloCleanOne-Bold\", \"labelFontSize\": 10, \"padding\": 10, \"title\": \"Return (%)\", \"titleColor\": \"#DED1FF\", \"titleFont\": \"LuloCleanOne-Bold\", \"titleFontSize\": 15}, \"type\": \"quantitative\"}, \"x\": {\"axis\": {\"labelColor\": \"#DED1FF\", \"labelFont\": \"LuloCleanOne-Bold\", \"labelFontSize\": 10, \"title\": \"Market Size\", \"titleColor\": \"#DED1FF\", \"titleFont\": \"LuloCleanOne-Bold\", \"titleFontSize\": 15, \"titlePadding\": 10}, \"field\": \"Size\", \"scale\": {\"paddingInner\": 0}, \"type\": \"ordinal\"}, \"y\": {\"axis\": {\"labelColor\": \"#DED1FF\", \"labelFont\": \"LuloCleanOne-Bold\", \"labelFontSize\": 10, \"title\": \"Geography\", \"titleColor\": \"#DED1FF\", \"titleFont\": \"LuloCleanOne-Bold\", \"titleFontSize\": 15, \"titlePadding\": 10}, \"field\": \"Geography\", \"scale\": {\"paddingInner\": 0}, \"type\": \"ordinal\"}}}, {\"mark\": \"text\", \"encoding\": {\"color\": {\"value\": \"#040075\"}, \"text\": {\"field\": \"1 Yr\", \"type\": \"quantitative\"}, \"x\": {\"axis\": {\"labelColor\": \"#DED1FF\", \"labelFont\": \"LuloCleanOne-Bold\", \"labelFontSize\": 10, \"title\": \"Market Size\", \"titleColor\": \"#DED1FF\", \"titleFont\": \"LuloCleanOne-Bold\", \"titleFontSize\": 15, \"titlePadding\": 10}, \"field\": \"Size\", \"scale\": {\"paddingInner\": 0}, \"type\": \"ordinal\"}, \"y\": {\"axis\": {\"labelColor\": \"#DED1FF\", \"labelFont\": \"LuloCleanOne-Bold\", \"labelFontSize\": 10, \"title\": \"Geography\", \"titleColor\": \"#DED1FF\", \"titleFont\": \"LuloCleanOne-Bold\", \"titleFontSize\": 15, \"titlePadding\": 10}, \"field\": \"Geography\", \"scale\": {\"paddingInner\": 0}, \"type\": \"ordinal\"}}, \"transform\": [{\"calculate\": \"\\\"\\\" + datum.x + datum.y\", \"as\": \"label\"}]}], \"data\": {\"name\": \"data-88fdb91f02214d145f9c343b912c138e\"}, \"height\": 300, \"title\": \"Yearly Index Return\", \"width\": 300, \"$schema\": \"https://vega.github.io/schema/vega-lite/v4.17.0.json\", \"datasets\": {\"data-88fdb91f02214d145f9c343b912c138e\": [{\"Index Name\": \"Invesco Asia ex-Japan Total Market Index\", \"Family\": \"Market Beta\", \"Geography\": \"Asia ex-Japan\", \"Size\": \"Lg Mid\", \"1 Mo\": -3.15, \"1 Yr\": -16.34}, {\"Index Name\": \"Invesco Global Emerging Markets Index\", \"Family\": \"Market Beta\", \"Geography\": \"Global: Emerging\", \"Size\": \"Lg Mid\", \"1 Mo\": -0.76, \"1 Yr\": -12.63}, {\"Index Name\": \"Invesco US Small Cap Index\", \"Family\": \"Market Beta\", \"Geography\": \"US\", \"Size\": \"Small\", \"1 Mo\": -9.27, \"1 Yr\": 0.9500000000000001}, {\"Index Name\": \"Invesco Global Small Cap Index\", \"Family\": \"Market Beta\", \"Geography\": \"Global\", \"Size\": \"Small\", \"1 Mo\": -8.81, \"1 Yr\": 1.1}, {\"Index Name\": \"Invesco Global ex-US Small Cap Index\", \"Family\": \"Market Beta\", \"Geography\": \"Global ex-US\", \"Size\": \"Small\", \"1 Mo\": -8.31, \"1 Yr\": 1.33}, {\"Index Name\": \"Invesco Asia ex-Japan Total Market Small Cap Index\", \"Family\": \"Market Beta\", \"Geography\": \"Asia ex-Japan\", \"Size\": \"Small\", \"1 Mo\": -9.56, \"1 Yr\": 2.16}, {\"Index Name\": \"Invesco Europe Small Cap Index\", \"Family\": \"Market Beta\", \"Geography\": \"Europe\", \"Size\": \"Small\", \"1 Mo\": -9.56, \"1 Yr\": 4.54}, {\"Index Name\": \"Invesco Global ex-US Index\", \"Family\": \"Market Beta\", \"Geography\": \"Global ex-US\", \"Size\": \"Lg Mid\", \"1 Mo\": -4.65, \"1 Yr\": 7.91}, {\"Index Name\": \"Invesco Global Emerging Markets Small Cap Index\", \"Family\": \"Market Beta\", \"Geography\": \"Global: Emerging\", \"Size\": \"Small\", \"1 Mo\": -5.5200000000000005, \"1 Yr\": 9.23}, {\"Index Name\": \"Invesco Europe Index\", \"Family\": \"Market Beta\", \"Geography\": \"Europe\", \"Size\": \"Lg Mid\", \"1 Mo\": -4.61, \"1 Yr\": 12.450000000000001}, {\"Index Name\": \"Invesco Canada Small Cap Index\", \"Family\": \"Market Beta\", \"Geography\": \"Canada\", \"Size\": \"Small\", \"1 Mo\": -2.21, \"1 Yr\": 13.3}, {\"Index Name\": \"Invesco Global Index\", \"Family\": \"Market Beta\", \"Geography\": \"Global\", \"Size\": \"Lg Mid\", \"1 Mo\": -5.4, \"1 Yr\": 16.02}, {\"Index Name\": \"Invesco US Large Mid Cap Index\", \"Family\": \"Market Beta\", \"Geography\": \"US\", \"Size\": \"Lg Mid\", \"1 Mo\": -5.73, \"1 Yr\": 20.16}, {\"Index Name\": \"Invesco Canada Large Mid Cap Index \", \"Family\": \"Market Beta\", \"Geography\": \"Canada\", \"Size\": \"Lg Mid\", \"1 Mo\": -0.8, \"1 Yr\": 28.69}]}}, {\"mode\": \"vega-lite\"});\n",
       "</script>"
      ],
      "text/plain": [
       "alt.LayerChart(...)"
      ]
     },
     "execution_count": 901,
     "metadata": {},
     "output_type": "execute_result"
    }
   ],
   "source": [
    "apply_all(year, pallett)\n"
   ]
  }
 ],
 "metadata": {
  "interpreter": {
   "hash": "e9f6727800535e87952a05ece25243350d7781250ff4d7058c2f3577918c438f"
  },
  "kernelspec": {
   "display_name": "Python 3.9.7 ('CSC630')",
   "language": "python",
   "name": "python3"
  },
  "language_info": {
   "codemirror_mode": {
    "name": "ipython",
    "version": 3
   },
   "file_extension": ".py",
   "mimetype": "text/x-python",
   "name": "python",
   "nbconvert_exporter": "python",
   "pygments_lexer": "ipython3",
   "version": "3.9.7"
  },
  "orig_nbformat": 4
 },
 "nbformat": 4,
 "nbformat_minor": 2
}
